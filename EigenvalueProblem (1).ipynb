{
 "cells": [
  {
   "cell_type": "markdown",
   "metadata": {
    "id": "gnytgxUpqp08"
   },
   "source": [
    "Here we are going to solve a simple Eigenvalue problem defined as:\n",
    "\n",
    "\\begin{equation}\n",
    "\\frac{d^2  y(x)}{dx^2} = - \\lambda y(x)\n",
    "\\end{equation}\n",
    "\n",
    "where $\\lambda$ is the eigenvalue of the problem. Given the boundary conditions: $y(0) = y(L) = 0 $\n",
    "\n",
    "**THE EXACT SOLUTION**\n",
    "\n",
    "The exact solution is given as\n",
    "\\begin{equation}\n",
    "y_{n} (x) = A_{n} sin(\\frac{n \\pi x}{L})\n",
    "\\end{equation}\n",
    "and\n",
    "\\begin{equation}\n",
    "\\lambda_{n} =  \\left( \\frac{n \\pi}{L}\\right)^2\n",
    "\\end{equation}\n",
    "with\n",
    "\n",
    "\\begin{equation}\n",
    "A_n = \\sqrt{\\frac{2}{L}}\n",
    "\\end{equation}\n",
    "\n",
    "Now, we consider the problem for $L = \\pi$"
   ]
  },
  {
   "cell_type": "code",
   "execution_count": 2,
   "metadata": {
    "id": "1aHXZOG8Yd-z"
   },
   "outputs": [],
   "source": [
    "#Defining the exact solution\n",
    "\n",
    "def exact(x,n):\n",
    "  return np.sqrt(2/np.pi) *np.sin(n*x)\n"
   ]
  },
  {
   "cell_type": "code",
   "execution_count": 3,
   "metadata": {
    "colab": {
     "base_uri": "https://localhost:8080/"
    },
    "id": "RyfZpiUn8a1U",
    "outputId": "103be8b1-496d-4bf1-a580-3354bfd257fc"
   },
   "outputs": [
    {
     "name": "stdout",
     "output_type": "stream",
     "text": [
      "cpu\n"
     ]
    }
   ],
   "source": [
    "#Importing the required libraries\n",
    "import numpy as np\n",
    "import matplotlib.pyplot as plt\n",
    "from IPython.display import display, clear_output\n",
    "import torch\n",
    "from torch.autograd import grad\n",
    "from torch import Tensor\n",
    "import torch.nn as nn\n",
    "import torch.optim as optim     #optimizer\n",
    "import time\n",
    "import copy\n",
    "\n",
    "\n",
    "#Device configuration\n",
    "device = torch.device('cuda' if torch.cuda.is_available() else 'cpu')\n",
    "\n",
    "print(device)\n",
    "\n",
    "if device == 'cuda':\n",
    "  print(torch.cuda.get_device_name(0))"
   ]
  },
  {
   "cell_type": "code",
   "execution_count": 4,
   "metadata": {
    "id": "Ky1lRJcjtFnI"
   },
   "outputs": [],
   "source": [
    "#The sine activation function\n",
    "class sine(torch.nn.Module):\n",
    "  @staticmethod\n",
    "  def forward(input):\n",
    "    return torch.sin(input)\n",
    "\n",
    "#Automatic differentiation in pytorch\n",
    "def dfx(f,x):\n",
    "  gouts = torch.ones(x.shape, dtype=torch.float, device = device)\n",
    "  return grad([f],[x],grad_outputs=gouts, create_graph=True)[0]"
   ]
  },
  {
   "cell_type": "code",
   "execution_count": 5,
   "metadata": {
    "id": "p3eGg5YAtkN-"
   },
   "outputs": [],
   "source": [
    "#Defining the Gaussian perturbation after each epoch\n",
    "def perturbpoints(grid, t0, tf, sig=0.5):\n",
    "  #We want to perturb the evaluation points for every epoch\n",
    "  #We need to force the final points between [t0,tf]\n",
    "  dt = grid[1] - grid[0] #We define the step size of each point in the grid\n",
    "  noise = dt * torch.randn_like(grid)*sig #Here we define the Gaussian noise for perturbation\n",
    "  t = grid + noise #Here the noise is added to the collocation points\n",
    "  t[t<t0] = t0 - t[t<t0] #If any element is lesser than t0, we subtract it from t0\n",
    "  t[t>tf] = 2*tf - t[t>tf] #If any element is greater than the max tf, we subtract if from 2*tf to make it fall inside [t0,tf]\n",
    "  t[0] = t0 #Assign the first element to t0\n",
    "  t[-1] = tf #Assign the last element to tf\n",
    "  t.requires_grad = False #Avoid gradient computation for this set of points\n",
    "  return t"
   ]
  },
  {
   "cell_type": "code",
   "execution_count": 6,
   "metadata": {
    "id": "VqRKEdVUt9NL"
   },
   "outputs": [],
   "source": [
    "#Testing the perturbation of the points\n",
    "#x = torch.linspace(-2,2,10).view(-1,1)\n",
    "#x_noise = perturbpoints(x,-2,2,0.3)\n",
    "#print(torch.cat((x,x_noise),1))"
   ]
  },
  {
   "cell_type": "code",
   "execution_count": 7,
   "metadata": {
    "id": "sZfw7wJAu1K6"
   },
   "outputs": [],
   "source": [
    "#Defining the Parametric Solution\n",
    "#This enforces the solution on the boundaries\n",
    "def parametricSolutions(t,nn,t0,tf, bound):\n",
    "  N1,N2 = nn(t)\n",
    "  dt1 = t - t0\n",
    "  dt2 = t - tf\n",
    "  f = (1-torch.exp(-dt1))*(1-torch.exp(-dt2))\n",
    "  psi_hat = bound + f*N1\n",
    "  return psi_hat"
   ]
  },
  {
   "cell_type": "code",
   "execution_count": 8,
   "metadata": {
    "id": "HmvmIhQ6uMZS"
   },
   "outputs": [],
   "source": [
    "def hamEqs_Loss(t,psi,E):\n",
    "  psi_x = dfx(psi,t)\n",
    "  psi_xx = dfx(psi_x,t)\n",
    "  f = (psi_xx) + (E)*psi\n",
    "  L = (f.pow(2)).mean()\n",
    "  return L,f, -psi_xx"
   ]
  },
  {
   "cell_type": "code",
   "execution_count": 9,
   "metadata": {
    "id": "DtVKhZUPvj-T"
   },
   "outputs": [],
   "source": [
    "#Defining the Neural network architecture\n",
    "class qNNsym(torch.nn.Module):\n",
    "  def __init__(self,layers):\n",
    "    super(qNNsym,self).__init__()\n",
    "\n",
    "    self.sym = False #Because our solution is a sine function which is odd\n",
    "    self.activation = sine()\n",
    "\n",
    "    #Defining the Layers\n",
    "    self.linears = nn.ModuleList([nn.Linear(layers[i] + 1, layers[i+1]) for i in range(len(layers) - 1)])\n",
    "    #Defining the Eigenvalue neuron\n",
    "    self.ein = nn.Linear(1,1)\n",
    "    #Initializing the weights\n",
    "    for i in range(len(layers)-1):\n",
    "      nn.init.xavier_normal_(self.linears[i].weight.data, gain=1.0)\n",
    "\n",
    "\n",
    "    #Defining the forward pass\n",
    "  def forward(self,x):\n",
    "    if torch.is_tensor(x) != True:\n",
    "      x = torch.from_numpy(x)\n",
    "    a1 = x.float()\n",
    "    a2 = (-x).float()\n",
    "    In1 = self.ein(torch.ones_like(a1))\n",
    "    for i in range(len(layers)-2):\n",
    "      z1 = self.linears[i](torch.cat((a1,In1),1))\n",
    "      z2 = self.linears[i](torch.cat((a2,In1),1))\n",
    "      a1 = self.activation(z1)\n",
    "      a2 = self.activation(z2)\n",
    "    if self.sym == True:\n",
    "      out = self.linears[-1](torch.cat((a1+a2,In1),1))\n",
    "    else:\n",
    "      out = self.linears[-1](torch.cat((a1-a2,In1),1))\n",
    "    return out, In1\n",
    "\n",
    "#Defining the NN architecture without symmetry\n",
    "class qNN(torch.nn.Module):\n",
    "  def __init__(self,layers):\n",
    "    super(qNN,self).__init__()\n",
    "    self.activation = sine()\n",
    "\n",
    "    #Defining the Layers\n",
    "    self.linears = nn.ModuleList([nn.Linear(layers[i] + 1, layers[i+1]) for i in range(len(layers) - 1)])\n",
    "    #Defining the Eigenvalue neuron\n",
    "    self.ein = nn.Linear(1,1)\n",
    "\n",
    "    #Initializing the weights\n",
    "    for i in range(len(layers)-1):\n",
    "      nn.init.xavier_normal_(self.linears[i].weight.data, gain=1.0)\n",
    "      nn.init.zeros_(self.linears[i].bias.data)\n",
    "\n",
    "\n",
    "  #Defining the forward pass\n",
    "  def forward(self,x):\n",
    "    if torch.is_tensor(x) != True:\n",
    "      x = torch.from_numpy(x)\n",
    "    a = x.float()\n",
    "    In1 = self.ein(torch.ones_like(a))\n",
    "    for i in range(len(layers)-2):\n",
    "      z = self.linears[i](torch.cat((a,In1),1))\n",
    "      a = self.activation(z)\n",
    "    a = self.linears[-1](torch.cat((a,In1),1))\n",
    "    return a, In1"
   ]
  },
  {
   "cell_type": "code",
   "execution_count": 11,
   "metadata": {
    "id": "32XgCythsLnz"
   },
   "outputs": [],
   "source": [
    "#Defining the hyperparameters\n",
    "t0 =0; tf = torch.pi; xbc = 0\n",
    "col_pts = 1200; layers = [1,100,100,1]; lr = 1e-2"
   ]
  },
  {
   "cell_type": "code",
   "execution_count": 12,
   "metadata": {
    "colab": {
     "base_uri": "https://localhost:8080/"
    },
    "id": "QaveDt6Jqr6D",
    "outputId": "b7c9843f-638c-45f7-98ef-c80426f7430b"
   },
   "outputs": [
    {
     "name": "stdout",
     "output_type": "stream",
     "text": [
      "qNNsym(\n",
      "  (activation): sine()\n",
      "  (linears): ModuleList(\n",
      "    (0): Linear(in_features=2, out_features=100, bias=True)\n",
      "    (1): Linear(in_features=101, out_features=100, bias=True)\n",
      "    (2): Linear(in_features=101, out_features=1, bias=True)\n",
      "  )\n",
      "  (ein): Linear(in_features=1, out_features=1, bias=True)\n",
      ")\n"
     ]
    }
   ],
   "source": [
    "#def single_train(t0,tf,x1,layers,epochs,col_pts,lr,batch_number = 1):\n",
    "model = qNNsym(layers)\n",
    "model.to(device)\n",
    "print(model)\n",
    "params = list(model.parameters())\n",
    "betas = [0.999, 0.9999]\n",
    "optimizer = optim.Adam(model.parameters(), lr=lr, betas=betas)"
   ]
  },
  {
   "cell_type": "code",
   "execution_count": 14,
   "metadata": {
    "id": "eGaSEdGyxgDa"
   },
   "outputs": [],
   "source": [
    "#To learn a single eigenvalue and eigenfunction, we do not need the orthogonality condition\n",
    "#So we only need the normality condition\n",
    "def single_nn_train(qNN,t0,tf,xbc,col_pts,epochs):\n",
    "  mod1 = 0 #placeholder to save the best model\n",
    "  En_history = [] #To store the eigenvalues as it is optimized\n",
    "  Llim = 1e20 #The initial loss limit criteria\n",
    "  Loss_hist = []#To store the total loss after every epoch\n",
    "  grid = torch.linspace(t0,tf,col_pts).view(-1,1) #The collocation points\n",
    "\n",
    "  psi_dic = {} #To store the psi values after 100 iterations\n",
    "  #Storing the predicted solution\n",
    "  tTest = torch.linspace(0,torch.pi,100).view(-1,1)\n",
    "  tTest.requires_grad=True\n",
    "  i = 0 #Counter for storing the testing set\n",
    "  \n",
    "  stime = time.time()\n",
    "  for iter in range(epochs+1):\n",
    "    t = perturbpoints(grid,t0,tf,sig=tf*0.03) #We perturb the collocation points after every epoch(iteration)\n",
    "    t_rand = torch.tensor(np.random.permutation(t)).to(device)\n",
    "    t_rand.requires_grad =True\n",
    "    t_f=t[-1]\n",
    "    t_f=t_f.reshape(-1,1)\n",
    "    t_f.requires_grad = True\n",
    "    NN, En = qNN(t_rand) #The forward pass\n",
    "    En = torch.abs(En) \n",
    "    En_history.append(En[0].data.tolist()[0]) #Storing the eigenvalue obtained\n",
    "    loss = 0.0\n",
    "    #Getting the parametric solution\n",
    "    psi = parametricSolutions(t_rand,qNN,t0,tf,xbc).to(device)\n",
    "    #Getting the loss after the forward pass\n",
    "    pde_loss, f_residual, H_psi = hamEqs_Loss(t_rand,psi,En.to(device))\n",
    "\n",
    "    criteria_loss = pde_loss #The loss for the patience condition\n",
    "\n",
    "    #Adding the normalization as a regularization term, and adding more weight to the pde_loss for faster convergence\n",
    "    total_loss = (5*pde_loss + ((col_pts/(tf-t0))-torch.sqrt(torch.dot(psi[:,0],psi[:,0]))).pow(2))\n",
    "    if iter %500 == 0:\n",
    "        print('Epoch', iter)\n",
    "        print('En', En_history[-1]) #print the last eigen_value\n",
    "        print('Loss',total_loss.detach().cpu().data.numpy())\n",
    "        print('=================================')\n",
    "    \n",
    "\n",
    "    #THE OPTIMIZER FOR THE BACK PROPAGATION\n",
    "    total_loss.backward(retain_graph = False)\n",
    "    optimizer.step()\n",
    "    loss += total_loss.detach().cpu().data.numpy()\n",
    "    optimizer.zero_grad()\n",
    "\n",
    "    #Storing the loss after each iteration\n",
    "    Loss_hist.append(loss)\n",
    "    #Keeping the values of psi after every 100 iterations\n",
    "    \n",
    "    if iter%100 == 0: \n",
    "        psi_dic[i] =parametricSolutions(tTest.to(device),qNN,t0,tf,xbc).to(device)\n",
    "        i+=1\n",
    "        \n",
    "    #Keeping the best model with the lowest loss after each iteration\n",
    "    if criteria_loss < Llim:\n",
    "      mod1 = copy.deepcopy(model)\n",
    "      Llim = criteria_loss\n",
    "  ftime = time.time()\n",
    "  ttime = ftime - stime\n",
    "  print(f'Total training time is {ttime} seconds')\n",
    "  return Loss_hist, En_history, mod1, psi_dic"
   ]
  },
  {
   "cell_type": "code",
   "execution_count": 15,
   "metadata": {
    "colab": {
     "base_uri": "https://localhost:8080/"
    },
    "id": "24T_zj2zXccA",
    "outputId": "d3505482-0717-4de1-df7f-9e450212e55b"
   },
   "outputs": [
    {
     "name": "stdout",
     "output_type": "stream",
     "text": [
      "Epoch 0\n",
      "En 0.28818392753601074\n",
      "Loss 47548.176\n",
      "=================================\n",
      "Epoch 500\n",
      "En 0.9216240644454956\n",
      "Loss 196.03102\n",
      "=================================\n",
      "Epoch 1000\n",
      "En 0.3107629418373108\n",
      "Loss 173.77168\n",
      "=================================\n",
      "Epoch 1500\n",
      "En 0.603064775466919\n",
      "Loss 164.63182\n",
      "=================================\n",
      "Epoch 2000\n",
      "En 0.734294056892395\n",
      "Loss 65.261444\n",
      "=================================\n",
      "Epoch 2500\n",
      "En 0.9776296019554138\n",
      "Loss 49.283268\n",
      "=================================\n",
      "Epoch 3000\n",
      "En 1.2101097106933594\n",
      "Loss 23.764627\n",
      "=================================\n",
      "Epoch 3500\n",
      "En 1.172331690788269\n",
      "Loss 16.884941\n",
      "=================================\n",
      "Epoch 4000\n",
      "En 0.9372212886810303\n",
      "Loss 10.621513\n",
      "=================================\n",
      "Epoch 4500\n",
      "En 0.8659036755561829\n",
      "Loss 8.861543\n",
      "=================================\n",
      "Epoch 5000\n",
      "En 0.9664810299873352\n",
      "Loss 2.8947868\n",
      "=================================\n",
      "Epoch 5500\n",
      "En 1.0323220491409302\n",
      "Loss 2.0783443\n",
      "=================================\n",
      "Epoch 6000\n",
      "En 1.027611494064331\n",
      "Loss 2.828213\n",
      "=================================\n",
      "Epoch 6500\n",
      "En 1.0110135078430176\n",
      "Loss 1.2655841\n",
      "=================================\n",
      "Epoch 7000\n",
      "En 0.9915631413459778\n",
      "Loss 1.3724036\n",
      "=================================\n",
      "Epoch 7500\n",
      "En 0.9827184677124023\n",
      "Loss 1.1625606\n",
      "=================================\n",
      "Epoch 8000\n",
      "En 1.0001068115234375\n",
      "Loss 1.1531276\n",
      "=================================\n",
      "Epoch 8500\n",
      "En 1.0127419233322144\n",
      "Loss 1.2146865\n",
      "=================================\n",
      "Epoch 9000\n",
      "En 1.0011346340179443\n",
      "Loss 1.0889646\n",
      "=================================\n",
      "Epoch 9500\n",
      "En 0.994036078453064\n",
      "Loss 1.0498511\n",
      "=================================\n",
      "Epoch 10000\n",
      "En 0.9990408420562744\n",
      "Loss 1.0318414\n",
      "=================================\n",
      "Total training time is 263.852087020874 seconds\n"
     ]
    }
   ],
   "source": [
    "Loss, eig_vals, qPINN,psi_dic = single_nn_train(model,t0,tf,xbc,col_pts,epochs = 10000)"
   ]
  },
  {
   "cell_type": "code",
   "execution_count": 30,
   "metadata": {},
   "outputs": [],
   "source": [
    "#Saving a video of how the neural network learns the eigenvalue, check your folder to see the saved .gif file\n",
    "\n",
    "import matplotlib.pyplot as plt\n",
    "from IPython.display import display, clear_output\n",
    "from matplotlib.animation import FuncAnimation\n",
    "import numpy as np\n",
    "import time\n",
    "epochs = 10000\n",
    "# Create a single figure outside the loop\n",
    "fig, ax = plt.subplots()\n",
    "eigval = []; epoch = []\n",
    "y = np.ones(epochs)\n",
    "\n",
    "\n",
    "# Function to update the plot for each iteration\n",
    "def update(frame):\n",
    "    eigval.append(eig_vals[frame*100])\n",
    "    epoch.append(np.array(frame*100))\n",
    "\n",
    "    # Clear the previous plot\n",
    "    ax.clear()\n",
    "\n",
    "    # Re-plot the reference line\n",
    "    ax.plot(np.arange(epochs), y,color='blue', label='Exact Eigenvalue')\n",
    "\n",
    "    # Re-plot all perturbed points\n",
    "    ax.plot(np.array(epoch), np.array(eigval), color='magenta', label='Learned Eigenvalue')\n",
    "\n",
    "    # Customize the plot\n",
    "    ax.set_title(f'Iteration {frame*100}')\n",
    "    ax.set_ylim(0,2)\n",
    "    ax.set_xlim(0,10000)\n",
    "    ax.set_xlabel('Number of epochs')\n",
    "    ax.set_ylabel('Eigenvalues at epochs')\n",
    "    ax.legend()\n",
    "\n",
    "    return ax\n",
    "\n",
    "# Create the animation\n",
    "animation = FuncAnimation(fig, update, frames=100, blit=False)\n",
    "\n",
    "# Save the animation as a video file with an explicit file extension and writer\n",
    "animation.save('eigenvalue.gif', writer='pillow', fps=10)  # Use '.gif' extension for GIF format\n",
    "\n",
    "\n",
    "# Display the final plot (optional)\n",
    "plt.close()  # Close the figure after the loop is done (optional)\n"
   ]
  },
  {
   "cell_type": "code",
   "execution_count": 31,
   "metadata": {},
   "outputs": [],
   "source": [
    "#Saving a video of how the PINN converges to the exact eigenfunction, check your folder to see the saved .gif file\n",
    "\n",
    "#Defining the exact solution\n",
    "tTest = np.linspace(0,np.pi,100).reshape(-1,1)\n",
    "y1 = exact(tTest,1)\n",
    "# Create a single figure outside the loop\n",
    "fig, ax = plt.subplots()\n",
    "\n",
    "\n",
    "\n",
    "# Function to update the plot for each iteration\n",
    "def update(frame):\n",
    "    psi = psi_dic[frame].detach().cpu().numpy()\n",
    "    # Clear the previous plot\n",
    "    ax.clear()\n",
    "\n",
    "    # Re-plot the reference line\n",
    "    ax.plot(tTest, y1,color='blue', label='Exact Solution')\n",
    "    ax.plot(tTest, np.zeros(len(tTest)),'--k', linewidth=2)\n",
    "\n",
    "    # Re-plot all perturbed points\n",
    "    ax.scatter(tTest, np.sqrt(2/np.pi)*(abs(psi)/max(abs(psi))), color='red',marker='x', label='PINN Solution')\n",
    "\n",
    "    # Customize the plot, e.g., add labels, title, etc.\n",
    "    ax.set_title(f'Iteration {frame*100}')\n",
    "    ax.set_ylim(0,2)\n",
    "    ax.set_xlim(0.01,3.15)\n",
    "    ax.set_xlabel('Test data')\n",
    "    ax.set_ylabel('$\\psi$')\n",
    "    ax.legend()\n",
    "\n",
    "    return ax\n",
    "\n",
    "# Create the animation\n",
    "animation = FuncAnimation(fig, update, frames=100, blit=False)\n",
    "\n",
    "# Save the animation as a video file with an explicit file extension and writer\n",
    "animation.save('eigenfunction.gif', writer='pillow', fps=10)  # Use '.gif' extension for GIF format\n",
    "\n",
    "\n",
    "# Display the final plot (optional)\n",
    "plt.close() \n"
   ]
  },
  {
   "cell_type": "code",
   "execution_count": 32,
   "metadata": {
    "colab": {
     "base_uri": "https://localhost:8080/",
     "height": 434
    },
    "id": "BYx0qh9qXce_",
    "outputId": "1afbe34f-a5b5-43a4-8ddb-a15e54e005f8"
   },
   "outputs": [
    {
     "data": {
      "image/png": "[encoded data removed]",
      "text/plain": [
       "<Figure size 640x480 with 1 Axes>"
      ]
     },
     "metadata": {},
     "output_type": "display_data"
    }
   ],
   "source": [
    "#Loglog plot of the Loss\n",
    "Loss = np.array(Loss)\n",
    "plt.loglog(Loss,'-b',alpha=0.975);\n",
    "plt.show()"
   ]
  },
  {
   "cell_type": "code",
   "execution_count": 33,
   "metadata": {
    "id": "zG7iIG99q--1"
   },
   "outputs": [],
   "source": [
    "#Plotting the predicted solution\n",
    "tTest = torch.linspace(0,torch.pi,100).view(-1,1)\n",
    "tTest.requires_grad=True\n",
    "t_net = tTest.detach().numpy()\n",
    "psi =parametricSolutions(tTest,qPINN.cpu(),t0,tf,xbc)\n",
    "psi=psi.data.numpy();\n"
   ]
  },
  {
   "cell_type": "code",
   "execution_count": 34,
   "metadata": {
    "colab": {
     "base_uri": "https://localhost:8080/",
     "height": 449
    },
    "id": "ZfhBd9iyryAK",
    "outputId": "fc3a60c9-a95f-4b84-aac0-5798776f20fc"
   },
   "outputs": [
    {
     "data": {
      "image/png": "[encoded data removed]",
      "text/plain": [
       "<Figure size 640x480 with 1 Axes>"
      ]
     },
     "metadata": {},
     "output_type": "display_data"
    }
   ],
   "source": [
    "y1 = exact(t_net,1)\n",
    "fig, ax1 = plt.subplots()\n",
    "ax1.scatter(t_net, y1,marker = 'x',color='red',label='Exact_Solution')\n",
    "ax1.scatter(t_net, np.sqrt(2/np.pi)*(abs(psi)/max(abs(psi))), color='green', linewidth=1, label = 'PINN')\n",
    "ax1.plot(t_net, np.zeros(len(t_net)),'--k', linewidth=2)\n",
    "ax1.set_xlabel('x',color='black')\n",
    "ax1.set_ylabel('$\\psi(x)$',color='black')\n",
    "ax1.tick_params(axis='y', color='black')\n",
    "ax1.legend(loc = 'upper right')\n",
    "\n",
    "plt.grid('on')"
   ]
  },
  {
   "cell_type": "markdown",
   "metadata": {
    "id": "kRotW-82dfsx"
   },
   "source": [
    "###### Reference: [ Jin, H., Mattheakis, M., & Protopapas, P. (2022, July) ](https://ieeexplore.ieee.org/abstract/document/9891944/)"
   ]
  }
 ],
 "metadata": {
  "accelerator": "GPU",
  "colab": {
   "gpuType": "T4",
   "machine_shape": "hm",
   "provenance": []
  },
  "kernelspec": {
   "display_name": "Python 3 (ipykernel)",
   "language": "python",
   "name": "python3"
  },
  "language_info": {
   "codemirror_mode": {
    "name": "ipython",
    "version": 3
   },
   "file_extension": ".py",
   "mimetype": "text/x-python",
   "name": "python",
   "nbconvert_exporter": "python",
   "pygments_lexer": "ipython3",
   "version": "3.11.5"
  }
 },
 "nbformat": 4,
 "nbformat_minor": 1
}
